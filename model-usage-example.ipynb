{
 "cells": [
  {
   "cell_type": "markdown",
   "metadata": {},
   "source": [
    "## Set up the environment"
   ]
  },
  {
   "cell_type": "code",
   "execution_count": 1,
   "metadata": {},
   "outputs": [],
   "source": [
    "import sagemaker as sage\n",
    "from sagemaker import get_execution_role\n",
    "\n",
    "MODEL_PACKAGE_ARN =\"arn:aws:sagemaker:[region]:[your aws account id]:model-package/right-party-contact-likelihood-[XXXX]\"\n",
    "\n",
    "MODEL_NAME = \"[Specify a name for your model e.g. last segment of Model Arn]\"\n",
    "\n",
    "# S3 paths for input and output data \n",
    "# Ensure the buckets are in the same region as subscribed model\n",
    "S3_INPUT_PATH = \"s3://[INPUT_BUCKET_NAME]/[INPUT_FILE]\"\n",
    "S3_OUTPUT_PATH = \"s3://[OUTPUT_BUCKET_NAME]/output\"\n",
    "S3_OUTPUT_FILE = S3_OUTPUT_PATH + \"/[INPUT_FILE].out\"\n",
    "\n",
    "# Specify one of the supported real time instances for the subscribed model\n",
    "INFERENCE_INSTANCE = \"ml.p2.xlarge\"\n",
    "\n",
    "# Specify one of the supported batch transform instances for the subscribed model\n",
    "BATCH_INSTANCE = \"ml.m5.large\"\n",
    "\n",
    "# ROLE = get_execution_role()\n",
    "# or specify role arn\n",
    "# ensure the role has access to S3 buckets specified above\n",
    "ROLE = \"arn:aws:iam::[your aws account]:role/[your sagemaker role name]\"\n",
    "\n",
    "sagemaker_session = sage.Session()\n"
   ]
  },
  {
   "cell_type": "markdown",
   "metadata": {},
   "source": [
    "## Realtime Inference"
   ]
  },
  {
   "cell_type": "code",
   "execution_count": 2,
   "metadata": {},
   "outputs": [],
   "source": [
    "from sagemaker import ModelPackage\n",
    "model = ModelPackage(name=MODEL_NAME,\n",
    "                     role=ROLE,\n",
    "                     model_package_arn=MODEL_PACKAGE_ARN,\n",
    "                     sagemaker_session=sagemaker_session)"
   ]
  },
  {
   "cell_type": "code",
   "execution_count": 3,
   "metadata": {},
   "outputs": [],
   "source": [
    "endpoint_name=MODEL_NAME + \"-edp\""
   ]
  },
  {
   "cell_type": "code",
   "execution_count": null,
   "metadata": {},
   "outputs": [],
   "source": [
    "predictor = model.deploy(1, INFERENCE_INSTANCE, endpoint_name=endpoint_name)"
   ]
  },
  {
   "cell_type": "code",
   "execution_count": null,
   "metadata": {},
   "outputs": [],
   "source": [
    "# connect to the endpoint\n",
    "predictor = sage.Predictor(\n",
    "    endpoint_name,\n",
    "    sagemaker_session=sagemaker_session\n",
    ")"
   ]
  },
  {
   "cell_type": "code",
   "execution_count": null,
   "metadata": {},
   "outputs": [],
   "source": [
    "import s3fs, json\n",
    "fs = s3fs.S3FileSystem()\n",
    "\n",
    "with fs.open(S3_INPUT_PATH) as f:    \n",
    "    docByteArr = f.read()\n",
    "    response = predictor.predict(docByteArr)\n",
    "    result=response.decode('utf-8')\n",
    "    print(json.loads(result))"
   ]
  },
  {
   "cell_type": "code",
   "execution_count": null,
   "metadata": {},
   "outputs": [],
   "source": [
    "# Delete endpoint\n",
    "predictor.delete_endpoint()"
   ]
  },
  {
   "cell_type": "markdown",
   "metadata": {},
   "source": [
    "## Batch Transform Job"
   ]
  },
  {
   "cell_type": "code",
   "execution_count": null,
   "metadata": {},
   "outputs": [],
   "source": [
    "transformer = sage.transformer.Transformer(\n",
    "    base_transform_job_name='batch-transform',\n",
    "    model_name=MODEL_NAME,\n",
    "    instance_count=1,\n",
    "    instance_type=BATCH_INSTANCE,\n",
    "    output_path=S3_OUTPUT_PATH,\n",
    "    sagemaker_session=sagemaker_session\n",
    ")\n"
   ]
  },
  {
   "cell_type": "code",
   "execution_count": null,
   "metadata": {},
   "outputs": [],
   "source": [
    "transformer.transform(\n",
    "    S3_INPUT_PATH\n",
    ")\n",
    "\n",
    "# wait until prediction job is completed\n",
    "transformer.wait()\n"
   ]
  },
  {
   "cell_type": "markdown",
   "metadata": {},
   "source": [
    "#### Inspect the Batch Transform Output in S3"
   ]
  },
  {
   "cell_type": "code",
   "execution_count": null,
   "metadata": {},
   "outputs": [],
   "source": [
    "s3_client = sage.s3.S3Downloader\n",
    "s3_client.read_file(S3_OUTPUT_FILE)"
   ]
  },
  {
   "cell_type": "code",
   "execution_count": null,
   "metadata": {},
   "outputs": [],
   "source": []
  }
 ],
 "metadata": {
  "kernelspec": {
   "display_name": "sagemaker",
   "language": "python",
   "name": "sagemaker"
  },
  "language_info": {
   "codemirror_mode": {
    "name": "ipython",
    "version": 3
   },
   "file_extension": ".py",
   "mimetype": "text/x-python",
   "name": "python",
   "nbconvert_exporter": "python",
   "pygments_lexer": "ipython3",
   "version": "3.7.3"
  }
 },
 "nbformat": 4,
 "nbformat_minor": 2
}
